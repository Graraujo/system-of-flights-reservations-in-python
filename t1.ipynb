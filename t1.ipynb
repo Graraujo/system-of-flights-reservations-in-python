{
 "cells": [
  {
   "cell_type": "markdown",
   "metadata": {},
   "source": [
    "Giulia Rodrigues\n",
    "Paradigmas de Programação - 02/2023 - UFSM-RS "
   ]
  },
  {
   "cell_type": "code",
   "execution_count": null,
   "metadata": {},
   "outputs": [],
   "source": [
    "import pandas as pd"
   ]
  },
  {
   "cell_type": "code",
   "execution_count": null,
   "metadata": {},
   "outputs": [],
   "source": [
    "FLIGHTS_PATH = './flights.csv'\n",
    "SEATS_PATH = './seats.csv'"
   ]
  },
  {
   "cell_type": "code",
   "execution_count": null,
   "metadata": {},
   "outputs": [],
   "source": [
    "flights_df = pd.read_csv(FLIGHTS_PATH)\n",
    "seats_df = pd.read_csv(SEATS_PATH)"
   ]
  },
  {
   "cell_type": "code",
   "execution_count": null,
   "metadata": {},
   "outputs": [],
   "source": [
    "seats_per_plane_size = {\n",
    "    'S': 4,\n",
    "    'M': 6,\n",
    "    'L': 9\n",
    "}\n",
    "\n",
    "rows_per_plane_size = {\n",
    "    'S': 'H',\n",
    "    'M': 'P',\n",
    "    'L': 'Z'\n",
    "}"
   ]
  },
  {
   "cell_type": "code",
   "execution_count": null,
   "metadata": {},
   "outputs": [],
   "source": [
    "def does_flight_exists(flight_number) :\n",
    "    return len(flights_df.loc[flights_df['flight_number'] == flight_number]) > 0\n",
    "\n",
    "def get_seats_from_flight(flight_number) :\n",
    "    return seats_df.loc[seats_df['flight_number'] == flight_number]\n",
    "\n",
    "def get_plane_size(flight_number) :\n",
    "    return flights_df.loc[flights_df['flight_number'] == flight_number]['plane_size'].iloc[0]\n",
    "\n",
    "def is_seat_occupied(flight_number, seat_number) :\n",
    "    return len(seats_df.loc[(seats_df['flight_number'] == flight_number) & (seats_df['seat_number'] == seat_number)]) > 0\n",
    "\n",
    "def is_seat_valid(seat_number, plane_size) :\n",
    "    max_seats = seats_per_plane_size[plane_size]\n",
    "    \n",
    "    if len(seat_number) != 2 :\n",
    "        return False\n",
    "    \n",
    "    if seat_number[0].isdigit() :\n",
    "        return False\n",
    "    \n",
    "    if not seat_number[1].isdigit() :\n",
    "        return False\n",
    "    \n",
    "    if int(seat_number[1]) > max_seats :\n",
    "        return False\n",
    "    \n",
    "    return True\n",
    "\n",
    "def get_filled_flight_seats_dict(flight_seats, plane_size) :\n",
    "    filled_flight_seats_dict = {}\n",
    "    \n",
    "    rows_range = [chr(i) for i in range(ord('A'), ord(rows_per_plane_size[plane_size]) + 1)]\n",
    "    \n",
    "    for row in rows_range :\n",
    "        filled_flight_seats_dict[row] = []\n",
    "    \n",
    "    if not flight_seats.empty:\n",
    "        for index, row in flight_seats.iterrows():\n",
    "            seat = row['seat_number']\n",
    "            letter = seat[0]\n",
    "            filled_flight_seats_dict[letter].append((seat, False))\n",
    "\n",
    "    for row in filled_flight_seats_dict :\n",
    "        columns = [number[1] for number, _ in filled_flight_seats_dict[row]]\n",
    "        for i in range(1, seats_per_plane_size[plane_size] + 1) :\n",
    "            if str(i) not in columns :\n",
    "                filled_flight_seats_dict[row].append((row + str(i), True))\n",
    "\n",
    "        filled_flight_seats_dict[row] = sorted(filled_flight_seats_dict[row])\n",
    "\n",
    "    return filled_flight_seats_dict\n",
    "\n",
    "def buy_seat(flight_number, seat_number, passenger_name, save = True) :\n",
    "    if not does_flight_exists(flight_number) :\n",
    "        print('O voo não existe!')\n",
    "        return\n",
    "        \n",
    "    if is_seat_occupied(flight_number, seat_number) :\n",
    "        print('O assento já foi comprado!')\n",
    "        return\n",
    "    \n",
    "    seats_df.loc[len(seats_df)] = [flight_number, seat_number, passenger_name]\n",
    "    \n",
    "    if save :\n",
    "        seats_df.to_csv(SEATS_PATH, index=False)\n",
    "        print('Assento comprado com sucesso!')\n",
    "        \n",
    "    return       \n",
    "\n",
    "def display_seats(flight_number) :\n",
    "    step_by_plane_size = {\n",
    "        'S': 2,\n",
    "        'M': 3,\n",
    "        'L': 3\n",
    "    }\n",
    "    \n",
    "    flight_seats = get_seats_from_flight(flight_number)[['seat_number']]\n",
    "\n",
    "    plane_size = get_plane_size(flight_number)\n",
    "    filled_flight_seats_dict = get_filled_flight_seats_dict(flight_seats, plane_size)\n",
    "    \n",
    "    step = step_by_plane_size[plane_size]\n",
    "    \n",
    "    row_label_distance = 2\n",
    "    corridor_distance = 5\n",
    "    \n",
    "    for row in filled_flight_seats_dict :\n",
    "        i = 0\n",
    "        row_str = '\\033[97m' + row + row_label_distance * ' '\n",
    "        \n",
    "        for number, available in filled_flight_seats_dict[row] :\n",
    "            if i == step :\n",
    "                row_str += corridor_distance * ' '\n",
    "                i = 0\n",
    "                \n",
    "            if available :\n",
    "                row_str += '\\033[92m'\n",
    "            else :\n",
    "                row_str += '\\033[91m'\n",
    "                \n",
    "            row_str += number + ' '\n",
    "            \n",
    "            i += 1\n",
    "        \n",
    "        row_str += '\\033[97m' + (row_label_distance - 1) * ' ' + row\n",
    "        \n",
    "        print(row_str)\n",
    "        \n",
    "def is_flight_full(flight_number):\n",
    "    seats_per_row = seats_per_plane_size[get_plane_size(flight_number)]\n",
    "\n",
    "    flight_seats = get_seats_from_flight(flight_number)['seat_number']\n",
    "    total_seats = len(flight_seats)\n",
    "    max_seats = seats_per_row * (ord(rows_per_plane_size[get_plane_size(flight_number)]) - ord('A') + 1)\n",
    "    \n",
    "    return total_seats >= max_seats\n",
    "\n",
    "def get_flight_info(flight_number):\n",
    "    if does_flight_exists(flight_number):\n",
    "        plane_size = get_plane_size(flight_number)\n",
    "        origin = flights_df.loc[flights_df['flight_number'] == flight_number]['origin'].iloc[0]\n",
    "        destination = flights_df.loc[flights_df['flight_number'] == flight_number]['destination'].iloc[0]\n",
    "        departure_date = flights_df.loc[flights_df['flight_number'] == flight_number]['departure_date'].iloc[0]\n",
    "        \n",
    "        return {\n",
    "            'flight_number': flight_number,\n",
    "            'plane_size': plane_size,\n",
    "            'origin': origin,\n",
    "            'destination': destination,\n",
    "            'departure': departure_date\n",
    "        }\n",
    "    else:\n",
    "        return None\n",
    "\n",
    "def create_flight(flight_number, plane_size, origin, destination, departure_date, arrival_date, available):\n",
    "    if does_flight_exists(flight_number):\n",
    "        return \"O voo já existe.\"\n",
    "    \n",
    "    if plane_size not in seats_per_plane_size:\n",
    "        return \"Tamanho inválido, escolha entre S, M ou L.\"\n",
    "    \n",
    "    flights_df.loc[len(flights_df)] = [flight_number, plane_size, origin, destination, departure_date, arrival_date, available]\n",
    "    flights_df.to_csv(FLIGHTS_PATH, index=False)\n",
    "    \n",
    "    return \"Voo criado com sucesso.\""
   ]
  },
  {
   "cell_type": "code",
   "execution_count": null,
   "metadata": {},
   "outputs": [],
   "source": [
    "get_flight_info('L800')"
   ]
  },
  {
   "cell_type": "code",
   "execution_count": null,
   "metadata": {},
   "outputs": [],
   "source": [
    "display_seats('L800')\n",
    "buy_seat('L800', 'G4', 'Gabriele')\n",
    "display_seats('L800')"
   ]
  },
  {
   "cell_type": "code",
   "execution_count": null,
   "metadata": {},
   "outputs": [],
   "source": [
    "is_seat_occupied('L800', 'G4')"
   ]
  },
  {
   "cell_type": "code",
   "execution_count": null,
   "metadata": {},
   "outputs": [],
   "source": [
    "get_seats_from_flight('L800')"
   ]
  },
  {
   "cell_type": "code",
   "execution_count": null,
   "metadata": {},
   "outputs": [],
   "source": [
    "display_seats('S100')\n",
    "is_flight_full('S100')"
   ]
  },
  {
   "cell_type": "code",
   "execution_count": null,
   "metadata": {},
   "outputs": [],
   "source": [
    "is_flight_full('L800')"
   ]
  },
  {
   "cell_type": "code",
   "execution_count": null,
   "metadata": {},
   "outputs": [],
   "source": [
    "create_flight('S200', 'S', 'Sydney', 'Tokyo', '2023-12-03T15:00:00','2023-12-03T23:00:00',True)"
   ]
  },
  {
   "cell_type": "code",
   "execution_count": null,
   "metadata": {},
   "outputs": [],
   "source": [
    "create_flight('M342', 'M', 'Florianópolis', 'Rio de Janeiro', '2023-12-03T23:00:00','2023-12-04T12:00:00',True)"
   ]
  },
  {
   "cell_type": "markdown",
   "metadata": {},
   "source": [
    "### Conclusões:\n",
    "\n",
    "Mesmo que o trabalho não tenha seguido a proposta original que combinamos, eu escolhi fazer o trabalho em python e não me arrependi dessa escolha. Eu estou vendo python em deep learning nesse semestre e esse trabalho me ajudou a realmente colocar as coisas na prática, entender melhor a linguagem e a me familiarizar com ela. No começo eu tinha bastante preconceito com python porque já escutei que *\"meninas só sabem programar usando isso porque é mais fácil\"*, mas finalmente entendi o apelo da linguagem e porque ela é tão procurada.\n",
    "\n",
    "Eu escolhi trabalhar com a biblioteca pandas porquê: primeiro, o nome parecia interessante, mas, não tem nada a ver com o animalzinho, segundo, descobri que trabalha com dataframes e possui um monte de bibliotecas auxiliares então daria para fazer um trabalho legal com ela.\n",
    "\n",
    "A biblioteca permite fazer a leitura e escrita com vários tipos de arquivos, e nesse trabalho tentei explorar o XML e o csv. \n",
    "\n",
    "O XML começou a ficar extremamente maçante e eu não consegui fazer muita coisa com ele, então, parti para o csv, que foi bem mais fácil de trabalhar. \n",
    "\n",
    "Depois que aprendi a manusear um pouco arquivos csv, comecei a pesquisar possíveis funções que eu poderia chamar para resolver questões no código.\n",
    "\n",
    "Os métodos loc, iloc e isdigit foram os principais métodos que eu utilizei para resolver as questões do trabalho.\n",
    "Quando o método loc se tornou familiar, consegui montar as lógicas das funções com mais facilidade pois ajuda a localizar os dados que eu preciso facilmente.\n",
    "\n",
    "Alguns outros métodos já eram familiares pois já tinha visto versões deles em haskell, como o head, tail, length, etc.\n",
    "Já outros métodos foram novos para mim, como o isdigit e oS conceitos de nan/none e dicionários, foi assustador no começo, mas de acordo com o que eu ia descobrindo, fui me empolgando em achar metódos novos e jeitos diferentes de criar minhas funções.\n",
    " \n",
    "A função to_csv também foi muito importante, pois foi através dela que consegui fazer o buy_seats funcionar e atualizar a tabela de assentos.\n",
    "\n",
    "Foi um trabalho bem divertido de fazer, apesar de ter mudado toda a proposta de ultima hora e ter enviado super atrasado, sinto que na verdade fiz um progresso imenso, quando voltei para a faculdade no ínicio desse ano, eu já não sabia se iria dar conta de programar mesmo, entrei em 2018 e fui trancando durante vários semestres até me organizar, tomei gosto de fazer código quando comecei a fazer ED e lab2, isso só se fortaleceu até agora em paradigmas, é extremamente prazeroso conseguir criar algo e fico muito feliz de ter espaço para meninas nessa área também. :)\n",
    "\n",
    "Espero que java seja tão divertido quanto python, estou ansiosa para aprender mais sobre programaçao orientada a objetos <3 \n",
    "\n",
    "### Dificuldades:\n",
    "\n",
    "Acabei tendo alguns travamentos em certas funções:\n",
    "1. Perdi um tempo por uma besteira na função create_flight(), eu estava enviando 7 argumentos para a função, mas ela só esperava 5, até eu notar que esse era o problema, eu já tinha perdido um tempo considerável.\n",
    "\n",
    "2. Na função get_filled_flight_seats_dict(), display_seats() e get_flight_full foi aonde eu mais senti dificuldade, tive que procurar ajuda de colegas que já passaram pela disciplina para elaborar elas, apesar de ter conseguido pensar sozinha na lógica de tudo, ocorreu o problema de não saber o que usar para o código fazer o que eu queria, então, tive que pedir ajuda.\n",
    "\n",
    "3. Na função buy_seats() eu tive que pesquisar bastante para entender como funcionava o método to_csv, pois eu não estava conseguindo fazer a atualização da tabela de assentos, mas depois de pesquisar e entender como funcionava, consegui fazer a função funcionar.\n",
    "\n",
    "4. A questão da coloração de assentos foi algo totalmente novo para mim, nem sabia por onde começar mas percebi que era muito tranquilo, o trabalho acabou me empurrando para testar coisas novas e divertidas também.\n",
    "\n",
    "\n",
    "### Referências:\n",
    "+ [Por quê usar a biblioteca pandas?](https://harve.com.br/blog/programacao-python-blog/pandas-python-vantagens-e-como-comecar/)\n",
    "+ [Como é e como instalar a biblioteca](https://www.alura.com.br/artigos/pandas-o-que-e-para-que-serve-como-instalar)\n",
    "+ [Como trabalhar com arquivos csv](https://www.w3schools.com/python/pandas/pandas_csv.asp)\n",
    "+ [Diferentes formas de fazer a leitura de um arquivo csv com pandas](https://medium.com/@henrique.gelatti/diferentes-formas-de-ler-um-arquivo-csv-utilizando-a-biblioteca-pandas-dbeab96555ba)\n",
    "+ [Como usar os métodos loc e iloc](https://medium.com/horadecodar/data-science-tips-02-como-usar-loc-e-iloc-no-pandas-fab58e214d87)\n",
    "+ [loc vs iloc](https://www.delftstack.com/pt/howto/python-pandas/pandas-loc-vs-iloc-python/)\n",
    "+ [Como usar o método isdigit()](https://acervolima.com/python-pandas-series-str-isdigit/)\n",
    "+ [O quê é nan/none](https://note.nkmk.me/en/python-pandas-nan-none-na/)\n",
    "+ [Como funciona um dicionário em python](https://blog.somostera.com/desenvolvimento-web/dicionario-python)\n",
    "+ [Método to_csv](https://www.aprendadatascience.com/blog/fun%C3%A7%C3%A3o-to_csv)"
   ]
  }
 ],
 "metadata": {
  "kernelspec": {
   "display_name": "giulia",
   "language": "python",
   "name": "python3"
  },
  "language_info": {
   "codemirror_mode": {
    "name": "ipython",
    "version": 3
   },
   "file_extension": ".py",
   "mimetype": "text/x-python",
   "name": "python",
   "nbconvert_exporter": "python",
   "pygments_lexer": "ipython3",
   "version": "3.11.3"
  }
 },
 "nbformat": 4,
 "nbformat_minor": 2
}
